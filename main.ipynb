{
 "cells": [
  {
   "cell_type": "code",
   "execution_count": 1,
   "metadata": {},
   "outputs": [
    {
     "name": "stdout",
     "output_type": "stream",
     "text": [
      "X\n",
      "\n",
      "当前页面标题不正确，页面标题为百度一下，你就知道\n"
     ]
    }
   ],
   "source": [
    "from time import sleep\n",
    "from selenium import webdriver\n",
    "ExpectTitle = '解农筹平台'\n",
    "import titletest\n",
    "\n",
    "\n",
    "MainPage = webdriver.Edge()\n",
    "MainPage.get(r'http://www.baidu.com')\n",
    "titletest.TitleTest(MainPage, ExpectTitle)\n",
    "sleep(5)\n",
    "MainPage.close()"
   ]
  }
 ],
 "metadata": {
  "kernelspec": {
   "display_name": "Python 3.9.7 ('base')",
   "language": "python",
   "name": "python3"
  },
  "language_info": {
   "codemirror_mode": {
    "name": "ipython",
    "version": 3
   },
   "file_extension": ".py",
   "mimetype": "text/x-python",
   "name": "python",
   "nbconvert_exporter": "python",
   "pygments_lexer": "ipython3",
   "version": "3.9.7"
  },
  "orig_nbformat": 4,
  "vscode": {
   "interpreter": {
    "hash": "09a385083844990cecedc4fed4fdf354e5b28c700de2655f4e3047999c523946"
   }
  }
 },
 "nbformat": 4,
 "nbformat_minor": 2
}
