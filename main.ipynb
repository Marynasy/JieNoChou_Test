{
 "cells": [
  {
   "cell_type": "code",
   "execution_count": 1,
   "metadata": {},
   "outputs": [
    {
     "name": "stdout",
     "output_type": "stream",
     "text": [
      "标题测试开始:\n",
      "X\n",
      "\n",
      "当前页面标题不正确，页面标题为CMall\n",
      "Logo测试开始:\n",
      "√\n",
      "\n",
      "当前页面Logo已显示\n",
      "测试未通过\n",
      "\n",
      "测试总数:\n",
      "2\n",
      "测试通过数:\n",
      "2\n",
      "测试未通过数:\n",
      "0\n"
     ]
    }
   ],
   "source": [
    "from time import sleep\n",
    "from selenium import webdriver\n",
    "import test\n",
    "import datashow\n",
    "ExpectTitle = '解农筹平台'\n",
    "\n",
    "fulltest = test.Test(1,0)\n",
    "MainPage = webdriver.Edge()\n",
    "MainPage.get(r'http://localhost:8080/#/')\n",
    "fulltest.TitleTest(MainPage, ExpectTitle)\n",
    "fulltest.LogoTest(MainPage)\n",
    "datashow.DataShow(fulltest)\n",
    "sleep(2)\n",
    "MainPage.close()"
   ]
  }
 ],
 "metadata": {
  "kernelspec": {
   "display_name": "Python 3.9.7 ('base')",
   "language": "python",
   "name": "python3"
  },
  "language_info": {
   "codemirror_mode": {
    "name": "ipython",
    "version": 3
   },
   "file_extension": ".py",
   "mimetype": "text/x-python",
   "name": "python",
   "nbconvert_exporter": "python",
   "pygments_lexer": "ipython3",
   "version": "3.9.7"
  },
  "orig_nbformat": 4,
  "vscode": {
   "interpreter": {
    "hash": "09a385083844990cecedc4fed4fdf354e5b28c700de2655f4e3047999c523946"
   }
  }
 },
 "nbformat": 4,
 "nbformat_minor": 2
}
